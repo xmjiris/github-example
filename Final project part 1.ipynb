{
 "cells": [
  {
   "cell_type": "markdown",
   "metadata": {},
   "source": [
    "# Capstone Final Project- Battle of the Neighborhoods-New York City vs Toronto"
   ]
  },
  {
   "cell_type": "markdown",
   "metadata": {},
   "source": [
    "## Introduction"
   ]
  },
  {
   "cell_type": "markdown",
   "metadata": {},
   "source": [
    "When trying to find the best places to live, it's always a good idea to compare cities and if possible, to compare neighborhoods. After all, when you go to buy a car or a house or any big ticket item, you usually try out a few models or visit a few homes before you decide. The same tactic applies to finding the best places to live. \n",
    "\n",
    "There are lots of ways that can help you asses different factors when comparing two cities, some are listed as following:\n",
    "1. **Overall Comparison**: This is a comparison of the same factors for each city, resulting in having a general overview of the two cities. Some of the popular factors include population, cost of living, average rent, crime rate, tax rates, and air quality.\n",
    "\n",
    "2. **Crime Rates**: Here, the comparison is made to know the crime rates of two cities, then measures them both against the national statistics.\n",
    "\n",
    "3. **Cost of Living and Salary Comparison**: This takes into account comparing salaries and cost of living within cities for a decision to be made. Some factors for this comparison includes statistics on food, housing, utilities, transportation and more. This is a useful way to find out if your salary will measure up in the new city.\n",
    "\n",
    "4. **Compare Schools**: This is helpful in finding the best school in a vicinity by doing a comparison between different places. It mostly takes into consideration test scores and teacher and student ratios, including the teacher's experience of the lists schools in the city of your choice.\n",
    "\n",
    "5. **Neighborhood Comparison**: This looks at neighborhood comparison and helps one choose the best place to live within any given city. These sites allow you to see some pretty interesting facts about the various communities."
   ]
  },
  {
   "cell_type": "markdown",
   "metadata": {},
   "source": [
    "# Problem"
   ]
  },
  {
   "cell_type": "markdown",
   "metadata": {},
   "source": [
    "New York City and Toronto are both top cities in the world with diversity in many ways. In this project, we want explore how much they are similar or dissimilar in aspects from a tourist point of view regarding food, accommodation and many other aspects. \n",
    "\n",
    "In order to do this, we will reach the services of Foursquare API for exploring the data of two cities, in terms of their neighborhoods. The data also includes information such as restaurants,coffee shops, theaters etc. for each eighborhood. In this project, we will select one brorough from each city for better analyzing. We will select Manhattan from New York City and Downtown Toronto from the city of Toronto. We will apply algorithms of clustering to help segmentation with similar aspects based on each neighborhood.\n"
   ]
  },
  {
   "cell_type": "markdown",
   "metadata": {},
   "source": [
    "# Methodology"
   ]
  },
  {
   "cell_type": "markdown",
   "metadata": {},
   "source": [
    "In both cases, we will arrange the dataset in regard to our requirements, that is to apply steps of data processing, like eliminating \"NA\" values, combine eighborhoods which have same geographical coordinates and sort against the targeted borough etc. For data verification and further exploration, we use Foursquare API to get the coordinates of Downtown Toronto/Manhattan and explore their neighborhoods. The neighborhoods are further characterized as venues and venue categories."
   ]
  }
 ],
 "metadata": {
  "kernelspec": {
   "display_name": "Python",
   "language": "python",
   "name": "conda-env-python-py"
  },
  "language_info": {
   "codemirror_mode": {
    "name": "ipython",
    "version": 3
   },
   "file_extension": ".py",
   "mimetype": "text/x-python",
   "name": "python",
   "nbconvert_exporter": "python",
   "pygments_lexer": "ipython3",
   "version": "3.6.7"
  }
 },
 "nbformat": 4,
 "nbformat_minor": 4
}
